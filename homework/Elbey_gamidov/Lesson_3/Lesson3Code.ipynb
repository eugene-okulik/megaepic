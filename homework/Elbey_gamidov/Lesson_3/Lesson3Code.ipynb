{
 "cells": [
  {
   "cell_type": "markdown",
   "id": "b68ad4e0",
   "metadata": {},
   "source": [
    "#Python"
   ]
  },
  {
   "cell_type": "code",
   "execution_count": 6,
   "id": "6e5aad27",
   "metadata": {},
   "outputs": [
    {
     "name": "stdout",
     "output_type": "stream",
     "text": [
      "5\n",
      "-1\n",
      "6\n"
     ]
    }
   ],
   "source": [
    "a = int(input('Введи первое число'))\n",
    "b = int(input('Введи второе число'))\n",
    "print(a + b)\n",
    "print(a - b)\n",
    "print(a * b)"
   ]
  },
  {
   "cell_type": "code",
   "execution_count": 7,
   "id": "21f3b8fd",
   "metadata": {},
   "outputs": [
    {
     "name": "stdout",
     "output_type": "stream",
     "text": [
      "55.0\n"
     ]
    }
   ],
   "source": [
    "x = int(input('Введи первое число'))\n",
    "y = int(input('Введи второе число'))\n",
    "print(((x - y)/1) + (x * y))"
   ]
  },
  {
   "cell_type": "code",
   "execution_count": 21,
   "id": "5210ecc4",
   "metadata": {},
   "outputs": [
    {
     "name": "stdout",
     "output_type": "stream",
     "text": [
      "2.5\n",
      "2.449489742783178\n"
     ]
    }
   ],
   "source": [
    "from math import sqrt\n",
    "a = int(input('Введи первое число'))\n",
    "b = int(input('Введи второе число'))\n",
    "print((a + b)/2)\n",
    "print(sqrt(a * b))"
   ]
  },
  {
   "cell_type": "code",
   "execution_count": 19,
   "id": "8587af7e",
   "metadata": {},
   "outputs": [
    {
     "name": "stdout",
     "output_type": "stream",
     "text": [
      "10.0\n",
      "24.0\n"
     ]
    }
   ],
   "source": [
    "from math import sqrt\n",
    "a = int(input('Введи первый катет'))\n",
    "b = int(input('Введи второй катет'))\n",
    "gypo = sqrt(((a * a) + (b * b)))\n",
    "s = 0.5 * (a * b)\n",
    "print(gypo)\n",
    "print(s)"
   ]
  }
 ],
 "metadata": {
  "kernelspec": {
   "display_name": "Python 3",
   "language": "python",
   "name": "python3"
  },
  "language_info": {
   "codemirror_mode": {
    "name": "ipython",
    "version": 3
   },
   "file_extension": ".py",
   "mimetype": "text/x-python",
   "name": "python",
   "nbconvert_exporter": "python",
   "pygments_lexer": "ipython3",
   "version": "3.12.0"
  }
 },
 "nbformat": 4,
 "nbformat_minor": 5
}
